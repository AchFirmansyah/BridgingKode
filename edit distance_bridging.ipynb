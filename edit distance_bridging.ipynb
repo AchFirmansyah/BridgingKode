{
 "cells": [
  {
   "cell_type": "code",
   "execution_count": 1,
   "metadata": {
    "collapsed": true
   },
   "outputs": [],
   "source": [
    "import pandas as pd\n",
    "import numpy as np"
   ]
  },
  {
   "cell_type": "code",
   "execution_count": 2,
   "metadata": {
    "collapsed": true
   },
   "outputs": [],
   "source": [
    "kab_bps=pd.read_csv('kab_bps.csv')"
   ]
  },
  {
   "cell_type": "code",
   "execution_count": 3,
   "metadata": {},
   "outputs": [
    {
     "data": {
      "text/html": [
       "<div>\n",
       "<style>\n",
       "    .dataframe thead tr:only-child th {\n",
       "        text-align: right;\n",
       "    }\n",
       "\n",
       "    .dataframe thead th {\n",
       "        text-align: left;\n",
       "    }\n",
       "\n",
       "    .dataframe tbody tr th {\n",
       "        vertical-align: top;\n",
       "    }\n",
       "</style>\n",
       "<table border=\"1\" class=\"dataframe\">\n",
       "  <thead>\n",
       "    <tr style=\"text-align: right;\">\n",
       "      <th></th>\n",
       "      <th>KODE</th>\n",
       "      <th>NMKAB</th>\n",
       "    </tr>\n",
       "  </thead>\n",
       "  <tbody>\n",
       "    <tr>\n",
       "      <th>0</th>\n",
       "      <td>1101</td>\n",
       "      <td>SIMEULUE</td>\n",
       "    </tr>\n",
       "    <tr>\n",
       "      <th>1</th>\n",
       "      <td>1101</td>\n",
       "      <td>SIMEULUE</td>\n",
       "    </tr>\n",
       "    <tr>\n",
       "      <th>2</th>\n",
       "      <td>1101</td>\n",
       "      <td>SIMEULUE</td>\n",
       "    </tr>\n",
       "    <tr>\n",
       "      <th>3</th>\n",
       "      <td>1101</td>\n",
       "      <td>SIMEULUE</td>\n",
       "    </tr>\n",
       "    <tr>\n",
       "      <th>4</th>\n",
       "      <td>1101</td>\n",
       "      <td>SIMEULUE</td>\n",
       "    </tr>\n",
       "  </tbody>\n",
       "</table>\n",
       "</div>"
      ],
      "text/plain": [
       "   KODE     NMKAB\n",
       "0  1101  SIMEULUE\n",
       "1  1101  SIMEULUE\n",
       "2  1101  SIMEULUE\n",
       "3  1101  SIMEULUE\n",
       "4  1101  SIMEULUE"
      ]
     },
     "execution_count": 3,
     "metadata": {},
     "output_type": "execute_result"
    }
   ],
   "source": [
    "kab_bps=kab_bps[['KODE','NMKAB']]\n",
    "kab_bps.head()"
   ]
  },
  {
   "cell_type": "code",
   "execution_count": 4,
   "metadata": {
    "collapsed": true
   },
   "outputs": [],
   "source": [
    "kab_bps=kab_bps.drop_duplicates()"
   ]
  },
  {
   "cell_type": "code",
   "execution_count": 5,
   "metadata": {
    "collapsed": true
   },
   "outputs": [],
   "source": [
    "kab_dagri=pd.read_csv('kab_dagri.csv')"
   ]
  },
  {
   "cell_type": "code",
   "execution_count": 6,
   "metadata": {},
   "outputs": [
    {
     "data": {
      "text/html": [
       "<div>\n",
       "<style>\n",
       "    .dataframe thead tr:only-child th {\n",
       "        text-align: right;\n",
       "    }\n",
       "\n",
       "    .dataframe thead th {\n",
       "        text-align: left;\n",
       "    }\n",
       "\n",
       "    .dataframe tbody tr th {\n",
       "        vertical-align: top;\n",
       "    }\n",
       "</style>\n",
       "<table border=\"1\" class=\"dataframe\">\n",
       "  <thead>\n",
       "    <tr style=\"text-align: right;\">\n",
       "      <th></th>\n",
       "      <th>Unnamed: 0</th>\n",
       "      <th>kab</th>\n",
       "      <th>kode</th>\n",
       "    </tr>\n",
       "  </thead>\n",
       "  <tbody>\n",
       "    <tr>\n",
       "      <th>0</th>\n",
       "      <td>15</td>\n",
       "      <td>KAB. ACEH SELATAN</td>\n",
       "      <td>11.01</td>\n",
       "    </tr>\n",
       "    <tr>\n",
       "      <th>1</th>\n",
       "      <td>616</td>\n",
       "      <td>KAB. ACEH TENGGARA</td>\n",
       "      <td>11.02</td>\n",
       "    </tr>\n",
       "    <tr>\n",
       "      <th>2</th>\n",
       "      <td>1517</td>\n",
       "      <td>KAB. ACEH TIMUR</td>\n",
       "      <td>11.03</td>\n",
       "    </tr>\n",
       "    <tr>\n",
       "      <th>3</th>\n",
       "      <td>2698</td>\n",
       "      <td>KAB. ACEH TENGAH</td>\n",
       "      <td>11.04</td>\n",
       "    </tr>\n",
       "    <tr>\n",
       "      <th>4</th>\n",
       "      <td>3405</td>\n",
       "      <td>KAB. ACEH BARAT</td>\n",
       "      <td>11.05</td>\n",
       "    </tr>\n",
       "  </tbody>\n",
       "</table>\n",
       "</div>"
      ],
      "text/plain": [
       "   Unnamed: 0                 kab   kode\n",
       "0          15   KAB. ACEH SELATAN  11.01\n",
       "1         616  KAB. ACEH TENGGARA  11.02\n",
       "2        1517     KAB. ACEH TIMUR  11.03\n",
       "3        2698    KAB. ACEH TENGAH  11.04\n",
       "4        3405     KAB. ACEH BARAT  11.05"
      ]
     },
     "execution_count": 6,
     "metadata": {},
     "output_type": "execute_result"
    }
   ],
   "source": [
    "kab_dagri.head()"
   ]
  },
  {
   "cell_type": "code",
   "execution_count": 7,
   "metadata": {},
   "outputs": [
    {
     "data": {
      "text/html": [
       "<div>\n",
       "<style>\n",
       "    .dataframe thead tr:only-child th {\n",
       "        text-align: right;\n",
       "    }\n",
       "\n",
       "    .dataframe thead th {\n",
       "        text-align: left;\n",
       "    }\n",
       "\n",
       "    .dataframe tbody tr th {\n",
       "        vertical-align: top;\n",
       "    }\n",
       "</style>\n",
       "<table border=\"1\" class=\"dataframe\">\n",
       "  <thead>\n",
       "    <tr style=\"text-align: right;\">\n",
       "      <th></th>\n",
       "      <th>Unnamed: 0</th>\n",
       "      <th>kab</th>\n",
       "      <th>kode</th>\n",
       "    </tr>\n",
       "  </thead>\n",
       "  <tbody>\n",
       "    <tr>\n",
       "      <th>0</th>\n",
       "      <td>15</td>\n",
       "      <td>KAB. ACEH SELATAN</td>\n",
       "      <td>11.01</td>\n",
       "    </tr>\n",
       "    <tr>\n",
       "      <th>1</th>\n",
       "      <td>616</td>\n",
       "      <td>KAB. ACEH TENGGARA</td>\n",
       "      <td>11.02</td>\n",
       "    </tr>\n",
       "    <tr>\n",
       "      <th>2</th>\n",
       "      <td>1517</td>\n",
       "      <td>KAB. ACEH TIMUR</td>\n",
       "      <td>11.03</td>\n",
       "    </tr>\n",
       "    <tr>\n",
       "      <th>3</th>\n",
       "      <td>2698</td>\n",
       "      <td>KAB. ACEH TENGAH</td>\n",
       "      <td>11.04</td>\n",
       "    </tr>\n",
       "    <tr>\n",
       "      <th>4</th>\n",
       "      <td>3405</td>\n",
       "      <td>KAB. ACEH BARAT</td>\n",
       "      <td>11.05</td>\n",
       "    </tr>\n",
       "    <tr>\n",
       "      <th>5</th>\n",
       "      <td>4114</td>\n",
       "      <td>KAB. ACEH BESAR</td>\n",
       "      <td>11.06</td>\n",
       "    </tr>\n",
       "    <tr>\n",
       "      <th>6</th>\n",
       "      <td>5435</td>\n",
       "      <td>KAB. PIDIE</td>\n",
       "      <td>11.07</td>\n",
       "    </tr>\n",
       "    <tr>\n",
       "      <th>7</th>\n",
       "      <td>7448</td>\n",
       "      <td>KAB. ACEH UTARA</td>\n",
       "      <td>11.08</td>\n",
       "    </tr>\n",
       "    <tr>\n",
       "      <th>8</th>\n",
       "      <td>9349</td>\n",
       "      <td>KAB. SIMEULUE</td>\n",
       "      <td>11.09</td>\n",
       "    </tr>\n",
       "    <tr>\n",
       "      <th>9</th>\n",
       "      <td>9688</td>\n",
       "      <td>KAB. ACEH SINGKIL</td>\n",
       "      <td>11.10</td>\n",
       "    </tr>\n",
       "    <tr>\n",
       "      <th>10</th>\n",
       "      <td>10145</td>\n",
       "      <td>KAB. BIREUEN</td>\n",
       "      <td>11.11</td>\n",
       "    </tr>\n",
       "    <tr>\n",
       "      <th>11</th>\n",
       "      <td>11750</td>\n",
       "      <td>KAB. ACEH BARAT DAYA</td>\n",
       "      <td>11.12</td>\n",
       "    </tr>\n",
       "    <tr>\n",
       "      <th>12</th>\n",
       "      <td>12135</td>\n",
       "      <td>KAB. GAYO LUES</td>\n",
       "      <td>11.13</td>\n",
       "    </tr>\n",
       "    <tr>\n",
       "      <th>13</th>\n",
       "      <td>12500</td>\n",
       "      <td>KAB. ACEH JAYA</td>\n",
       "      <td>11.14</td>\n",
       "    </tr>\n",
       "    <tr>\n",
       "      <th>14</th>\n",
       "      <td>12965</td>\n",
       "      <td>KAB. NAGAN RAYA</td>\n",
       "      <td>11.15</td>\n",
       "    </tr>\n",
       "    <tr>\n",
       "      <th>15</th>\n",
       "      <td>13576</td>\n",
       "      <td>KAB. ACEH TAMIANG</td>\n",
       "      <td>11.16</td>\n",
       "    </tr>\n",
       "    <tr>\n",
       "      <th>16</th>\n",
       "      <td>14119</td>\n",
       "      <td>KAB. BENER MERIAH</td>\n",
       "      <td>11.17</td>\n",
       "    </tr>\n",
       "    <tr>\n",
       "      <th>17</th>\n",
       "      <td>14686</td>\n",
       "      <td>KAB. PIDIE JAYA</td>\n",
       "      <td>11.18</td>\n",
       "    </tr>\n",
       "    <tr>\n",
       "      <th>18</th>\n",
       "      <td>15149</td>\n",
       "      <td>KOTA BANDA ACEH</td>\n",
       "      <td>11.71</td>\n",
       "    </tr>\n",
       "    <tr>\n",
       "      <th>19</th>\n",
       "      <td>15350</td>\n",
       "      <td>KOTA SABANG</td>\n",
       "      <td>11.72</td>\n",
       "    </tr>\n",
       "    <tr>\n",
       "      <th>20</th>\n",
       "      <td>15393</td>\n",
       "      <td>KOTA LHOKSEUMAWE</td>\n",
       "      <td>11.73</td>\n",
       "    </tr>\n",
       "    <tr>\n",
       "      <th>21</th>\n",
       "      <td>15562</td>\n",
       "      <td>KOTA LANGSA</td>\n",
       "      <td>11.74</td>\n",
       "    </tr>\n",
       "    <tr>\n",
       "      <th>22</th>\n",
       "      <td>15751</td>\n",
       "      <td>KOTA SUBULUSSALAM</td>\n",
       "      <td>11.75</td>\n",
       "    </tr>\n",
       "    <tr>\n",
       "      <th>23</th>\n",
       "      <td>15969</td>\n",
       "      <td>KAB. TAPANULI TENGAH</td>\n",
       "      <td>12.01</td>\n",
       "    </tr>\n",
       "    <tr>\n",
       "      <th>24</th>\n",
       "      <td>16506</td>\n",
       "      <td>KAB. TAPANULI UTARA</td>\n",
       "      <td>12.02</td>\n",
       "    </tr>\n",
       "    <tr>\n",
       "      <th>25</th>\n",
       "      <td>17045</td>\n",
       "      <td>KAB. TAPANULI SELATAN</td>\n",
       "      <td>12.03</td>\n",
       "    </tr>\n",
       "    <tr>\n",
       "      <th>26</th>\n",
       "      <td>19836</td>\n",
       "      <td>KAB. NIAS</td>\n",
       "      <td>12.04</td>\n",
       "    </tr>\n",
       "    <tr>\n",
       "      <th>27</th>\n",
       "      <td>21335</td>\n",
       "      <td>KAB. LANGKAT</td>\n",
       "      <td>12.05</td>\n",
       "    </tr>\n",
       "    <tr>\n",
       "      <th>28</th>\n",
       "      <td>21984</td>\n",
       "      <td>KAB. KARO</td>\n",
       "      <td>12.06</td>\n",
       "    </tr>\n",
       "    <tr>\n",
       "      <th>29</th>\n",
       "      <td>22653</td>\n",
       "      <td>KAB. DELI SERDANG</td>\n",
       "      <td>12.07</td>\n",
       "    </tr>\n",
       "    <tr>\n",
       "      <th>...</th>\n",
       "      <td>...</td>\n",
       "      <td>...</td>\n",
       "      <td>...</td>\n",
       "    </tr>\n",
       "    <tr>\n",
       "      <th>484</th>\n",
       "      <td>216215</td>\n",
       "      <td>KAB. YAHUKIMO</td>\n",
       "      <td>91.13</td>\n",
       "    </tr>\n",
       "    <tr>\n",
       "      <th>485</th>\n",
       "      <td>217572</td>\n",
       "      <td>KAB. TOLIKARA</td>\n",
       "      <td>91.14</td>\n",
       "    </tr>\n",
       "    <tr>\n",
       "      <th>486</th>\n",
       "      <td>219617</td>\n",
       "      <td>KAB. WAROPEN</td>\n",
       "      <td>91.15</td>\n",
       "    </tr>\n",
       "    <tr>\n",
       "      <th>487</th>\n",
       "      <td>220032</td>\n",
       "      <td>KAB. BOVEN DIGOEL</td>\n",
       "      <td>91.16</td>\n",
       "    </tr>\n",
       "    <tr>\n",
       "      <th>488</th>\n",
       "      <td>220431</td>\n",
       "      <td>KAB. MAPPI</td>\n",
       "      <td>91.17</td>\n",
       "    </tr>\n",
       "    <tr>\n",
       "      <th>489</th>\n",
       "      <td>220940</td>\n",
       "      <td>KAB. ASMAT</td>\n",
       "      <td>91.18</td>\n",
       "    </tr>\n",
       "    <tr>\n",
       "      <th>490</th>\n",
       "      <td>221645</td>\n",
       "      <td>KAB. SUPIORI</td>\n",
       "      <td>91.19</td>\n",
       "    </tr>\n",
       "    <tr>\n",
       "      <th>491</th>\n",
       "      <td>221782</td>\n",
       "      <td>KAB. MAMBERAMO RAYA</td>\n",
       "      <td>91.20</td>\n",
       "    </tr>\n",
       "    <tr>\n",
       "      <th>492</th>\n",
       "      <td>221943</td>\n",
       "      <td>KAB. MAMBERAMO TENGAH</td>\n",
       "      <td>91.21</td>\n",
       "    </tr>\n",
       "    <tr>\n",
       "      <th>493</th>\n",
       "      <td>222074</td>\n",
       "      <td>KAB. YALIMO</td>\n",
       "      <td>91.22</td>\n",
       "    </tr>\n",
       "    <tr>\n",
       "      <th>494</th>\n",
       "      <td>222691</td>\n",
       "      <td>KAB. LANNY JAYA</td>\n",
       "      <td>91.23</td>\n",
       "    </tr>\n",
       "    <tr>\n",
       "      <th>495</th>\n",
       "      <td>224014</td>\n",
       "      <td>KAB. NDUGA</td>\n",
       "      <td>91.24</td>\n",
       "    </tr>\n",
       "    <tr>\n",
       "      <th>496</th>\n",
       "      <td>224899</td>\n",
       "      <td>KAB. PUNCAK</td>\n",
       "      <td>91.25</td>\n",
       "    </tr>\n",
       "    <tr>\n",
       "      <th>497</th>\n",
       "      <td>225632</td>\n",
       "      <td>KAB. DOGIYAI</td>\n",
       "      <td>91.26</td>\n",
       "    </tr>\n",
       "    <tr>\n",
       "      <th>498</th>\n",
       "      <td>225813</td>\n",
       "      <td>KAB. INTAN JAYA</td>\n",
       "      <td>91.27</td>\n",
       "    </tr>\n",
       "    <tr>\n",
       "      <th>499</th>\n",
       "      <td>226026</td>\n",
       "      <td>KAB. DEIYAI</td>\n",
       "      <td>91.28</td>\n",
       "    </tr>\n",
       "    <tr>\n",
       "      <th>500</th>\n",
       "      <td>226185</td>\n",
       "      <td>KOTA JAYAPURA</td>\n",
       "      <td>91.71</td>\n",
       "    </tr>\n",
       "    <tr>\n",
       "      <th>501</th>\n",
       "      <td>226331</td>\n",
       "      <td>KAB. SORONG</td>\n",
       "      <td>92.01</td>\n",
       "    </tr>\n",
       "    <tr>\n",
       "      <th>502</th>\n",
       "      <td>227374</td>\n",
       "      <td>KAB. MANOKWARI</td>\n",
       "      <td>92.02</td>\n",
       "    </tr>\n",
       "    <tr>\n",
       "      <th>503</th>\n",
       "      <td>228819</td>\n",
       "      <td>KAB. FAK FAK</td>\n",
       "      <td>92.03</td>\n",
       "    </tr>\n",
       "    <tr>\n",
       "      <th>504</th>\n",
       "      <td>229286</td>\n",
       "      <td>KAB. SORONG SELATAN</td>\n",
       "      <td>92.04</td>\n",
       "    </tr>\n",
       "    <tr>\n",
       "      <th>505</th>\n",
       "      <td>230035</td>\n",
       "      <td>KAB. RAJA AMPAT</td>\n",
       "      <td>92.05</td>\n",
       "    </tr>\n",
       "    <tr>\n",
       "      <th>506</th>\n",
       "      <td>230508</td>\n",
       "      <td>KAB. TELUK BINTUNI</td>\n",
       "      <td>92.06</td>\n",
       "    </tr>\n",
       "    <tr>\n",
       "      <th>507</th>\n",
       "      <td>230963</td>\n",
       "      <td>KAB. TELUK WONDAMA</td>\n",
       "      <td>92.07</td>\n",
       "    </tr>\n",
       "    <tr>\n",
       "      <th>508</th>\n",
       "      <td>231232</td>\n",
       "      <td>KAB. KAIMANA</td>\n",
       "      <td>92.08</td>\n",
       "    </tr>\n",
       "    <tr>\n",
       "      <th>509</th>\n",
       "      <td>231467</td>\n",
       "      <td>KAB. TAMBRAUW</td>\n",
       "      <td>92.09</td>\n",
       "    </tr>\n",
       "    <tr>\n",
       "      <th>510</th>\n",
       "      <td>232188</td>\n",
       "      <td>KAB. MAYBRAT</td>\n",
       "      <td>92.10</td>\n",
       "    </tr>\n",
       "    <tr>\n",
       "      <th>511</th>\n",
       "      <td>232997</td>\n",
       "      <td>KAB. MANOKWARI SELATAN</td>\n",
       "      <td>92.11</td>\n",
       "    </tr>\n",
       "    <tr>\n",
       "      <th>512</th>\n",
       "      <td>233130</td>\n",
       "      <td>KAB. PEGUNUNGAN ARFAK</td>\n",
       "      <td>92.12</td>\n",
       "    </tr>\n",
       "    <tr>\n",
       "      <th>513</th>\n",
       "      <td>233515</td>\n",
       "      <td>KOTA SORONG</td>\n",
       "      <td>92.71</td>\n",
       "    </tr>\n",
       "  </tbody>\n",
       "</table>\n",
       "<p>514 rows × 3 columns</p>\n",
       "</div>"
      ],
      "text/plain": [
       "     Unnamed: 0                     kab   kode\n",
       "0            15       KAB. ACEH SELATAN  11.01\n",
       "1           616      KAB. ACEH TENGGARA  11.02\n",
       "2          1517         KAB. ACEH TIMUR  11.03\n",
       "3          2698        KAB. ACEH TENGAH  11.04\n",
       "4          3405         KAB. ACEH BARAT  11.05\n",
       "5          4114         KAB. ACEH BESAR  11.06\n",
       "6          5435              KAB. PIDIE  11.07\n",
       "7          7448         KAB. ACEH UTARA  11.08\n",
       "8          9349           KAB. SIMEULUE  11.09\n",
       "9          9688       KAB. ACEH SINGKIL  11.10\n",
       "10        10145            KAB. BIREUEN  11.11\n",
       "11        11750    KAB. ACEH BARAT DAYA  11.12\n",
       "12        12135          KAB. GAYO LUES  11.13\n",
       "13        12500          KAB. ACEH JAYA  11.14\n",
       "14        12965         KAB. NAGAN RAYA  11.15\n",
       "15        13576       KAB. ACEH TAMIANG  11.16\n",
       "16        14119       KAB. BENER MERIAH  11.17\n",
       "17        14686         KAB. PIDIE JAYA  11.18\n",
       "18        15149         KOTA BANDA ACEH  11.71\n",
       "19        15350             KOTA SABANG  11.72\n",
       "20        15393        KOTA LHOKSEUMAWE  11.73\n",
       "21        15562             KOTA LANGSA  11.74\n",
       "22        15751       KOTA SUBULUSSALAM  11.75\n",
       "23        15969    KAB. TAPANULI TENGAH  12.01\n",
       "24        16506     KAB. TAPANULI UTARA  12.02\n",
       "25        17045   KAB. TAPANULI SELATAN  12.03\n",
       "26        19836               KAB. NIAS  12.04\n",
       "27        21335            KAB. LANGKAT  12.05\n",
       "28        21984               KAB. KARO  12.06\n",
       "29        22653       KAB. DELI SERDANG  12.07\n",
       "..          ...                     ...    ...\n",
       "484      216215           KAB. YAHUKIMO  91.13\n",
       "485      217572           KAB. TOLIKARA  91.14\n",
       "486      219617            KAB. WAROPEN  91.15\n",
       "487      220032       KAB. BOVEN DIGOEL  91.16\n",
       "488      220431              KAB. MAPPI  91.17\n",
       "489      220940              KAB. ASMAT  91.18\n",
       "490      221645            KAB. SUPIORI  91.19\n",
       "491      221782     KAB. MAMBERAMO RAYA  91.20\n",
       "492      221943   KAB. MAMBERAMO TENGAH  91.21\n",
       "493      222074             KAB. YALIMO  91.22\n",
       "494      222691         KAB. LANNY JAYA  91.23\n",
       "495      224014              KAB. NDUGA  91.24\n",
       "496      224899             KAB. PUNCAK  91.25\n",
       "497      225632            KAB. DOGIYAI  91.26\n",
       "498      225813         KAB. INTAN JAYA  91.27\n",
       "499      226026             KAB. DEIYAI  91.28\n",
       "500      226185           KOTA JAYAPURA  91.71\n",
       "501      226331             KAB. SORONG  92.01\n",
       "502      227374          KAB. MANOKWARI  92.02\n",
       "503      228819            KAB. FAK FAK  92.03\n",
       "504      229286     KAB. SORONG SELATAN  92.04\n",
       "505      230035         KAB. RAJA AMPAT  92.05\n",
       "506      230508      KAB. TELUK BINTUNI  92.06\n",
       "507      230963      KAB. TELUK WONDAMA  92.07\n",
       "508      231232            KAB. KAIMANA  92.08\n",
       "509      231467           KAB. TAMBRAUW  92.09\n",
       "510      232188            KAB. MAYBRAT  92.10\n",
       "511      232997  KAB. MANOKWARI SELATAN  92.11\n",
       "512      233130   KAB. PEGUNUNGAN ARFAK  92.12\n",
       "513      233515             KOTA SORONG  92.71\n",
       "\n",
       "[514 rows x 3 columns]"
      ]
     },
     "execution_count": 7,
     "metadata": {},
     "output_type": "execute_result"
    }
   ],
   "source": [
    "kab_dagri"
   ]
  },
  {
   "cell_type": "code",
   "execution_count": 8,
   "metadata": {
    "collapsed": true
   },
   "outputs": [],
   "source": [
    "kab_dagri=kab_dagri[['kab','kode']]"
   ]
  },
  {
   "cell_type": "code",
   "execution_count": 9,
   "metadata": {
    "collapsed": true
   },
   "outputs": [],
   "source": [
    "kab_bps['KAB']=np.where(kab_bps.KODE.astype(str).str.slice(2,3)!='7','KAB. '+kab_bps['NMKAB'],\"KOTA \"+kab_bps['NMKAB'])"
   ]
  },
  {
   "cell_type": "code",
   "execution_count": 10,
   "metadata": {},
   "outputs": [
    {
     "data": {
      "text/html": [
       "<div>\n",
       "<style>\n",
       "    .dataframe thead tr:only-child th {\n",
       "        text-align: right;\n",
       "    }\n",
       "\n",
       "    .dataframe thead th {\n",
       "        text-align: left;\n",
       "    }\n",
       "\n",
       "    .dataframe tbody tr th {\n",
       "        vertical-align: top;\n",
       "    }\n",
       "</style>\n",
       "<table border=\"1\" class=\"dataframe\">\n",
       "  <thead>\n",
       "    <tr style=\"text-align: right;\">\n",
       "      <th></th>\n",
       "      <th>KODE</th>\n",
       "      <th>NMKAB</th>\n",
       "      <th>KAB</th>\n",
       "    </tr>\n",
       "  </thead>\n",
       "  <tbody>\n",
       "    <tr>\n",
       "      <th>0</th>\n",
       "      <td>1101</td>\n",
       "      <td>SIMEULUE</td>\n",
       "      <td>KAB. SIMEULUE</td>\n",
       "    </tr>\n",
       "    <tr>\n",
       "      <th>138</th>\n",
       "      <td>1102</td>\n",
       "      <td>ACEH SINGKIL</td>\n",
       "      <td>KAB. ACEH SINGKIL</td>\n",
       "    </tr>\n",
       "    <tr>\n",
       "      <th>254</th>\n",
       "      <td>1103</td>\n",
       "      <td>ACEH SELATAN</td>\n",
       "      <td>KAB. ACEH SELATAN</td>\n",
       "    </tr>\n",
       "    <tr>\n",
       "      <th>514</th>\n",
       "      <td>1104</td>\n",
       "      <td>ACEH TENGGARA</td>\n",
       "      <td>KAB. ACEH TENGGARA</td>\n",
       "    </tr>\n",
       "    <tr>\n",
       "      <th>899</th>\n",
       "      <td>1105</td>\n",
       "      <td>ACEH TIMUR</td>\n",
       "      <td>KAB. ACEH TIMUR</td>\n",
       "    </tr>\n",
       "  </tbody>\n",
       "</table>\n",
       "</div>"
      ],
      "text/plain": [
       "     KODE          NMKAB                 KAB\n",
       "0    1101       SIMEULUE       KAB. SIMEULUE\n",
       "138  1102   ACEH SINGKIL   KAB. ACEH SINGKIL\n",
       "254  1103   ACEH SELATAN   KAB. ACEH SELATAN\n",
       "514  1104  ACEH TENGGARA  KAB. ACEH TENGGARA\n",
       "899  1105     ACEH TIMUR     KAB. ACEH TIMUR"
      ]
     },
     "execution_count": 10,
     "metadata": {},
     "output_type": "execute_result"
    }
   ],
   "source": [
    "kab_bps.head()"
   ]
  },
  {
   "cell_type": "code",
   "execution_count": 11,
   "metadata": {
    "collapsed": true
   },
   "outputs": [],
   "source": [
    "kab_bps=kab_bps[['KODE','KAB']]"
   ]
  },
  {
   "cell_type": "code",
   "execution_count": 12,
   "metadata": {
    "collapsed": true
   },
   "outputs": [],
   "source": [
    "kab_bps['key']=1\n",
    "kab_dagri['key']=1"
   ]
  },
  {
   "cell_type": "code",
   "execution_count": 13,
   "metadata": {
    "collapsed": true
   },
   "outputs": [],
   "source": [
    "kab_cek=kab_bps.merge(kab_dagri,how='outer')"
   ]
  },
  {
   "cell_type": "code",
   "execution_count": 14,
   "metadata": {
    "collapsed": true
   },
   "outputs": [],
   "source": [
    "from nltk.metrics import edit_distance "
   ]
  },
  {
   "cell_type": "code",
   "execution_count": 15,
   "metadata": {
    "collapsed": true
   },
   "outputs": [],
   "source": [
    "kab_cek[\"ed_distance\"] = kab_cek.loc[:, [\"KAB\",\"kab\"]].apply(lambda x: edit_distance(*x), axis=1)"
   ]
  },
  {
   "cell_type": "code",
   "execution_count": 16,
   "metadata": {},
   "outputs": [
    {
     "data": {
      "text/html": [
       "<div>\n",
       "<style>\n",
       "    .dataframe thead tr:only-child th {\n",
       "        text-align: right;\n",
       "    }\n",
       "\n",
       "    .dataframe thead th {\n",
       "        text-align: left;\n",
       "    }\n",
       "\n",
       "    .dataframe tbody tr th {\n",
       "        vertical-align: top;\n",
       "    }\n",
       "</style>\n",
       "<table border=\"1\" class=\"dataframe\">\n",
       "  <thead>\n",
       "    <tr style=\"text-align: right;\">\n",
       "      <th></th>\n",
       "      <th>KODE</th>\n",
       "      <th>KAB</th>\n",
       "      <th>key</th>\n",
       "      <th>kab</th>\n",
       "      <th>kode</th>\n",
       "      <th>ed_distance</th>\n",
       "    </tr>\n",
       "  </thead>\n",
       "  <tbody>\n",
       "    <tr>\n",
       "      <th>0</th>\n",
       "      <td>1101</td>\n",
       "      <td>KAB. SIMEULUE</td>\n",
       "      <td>1</td>\n",
       "      <td>KAB. ACEH SELATAN</td>\n",
       "      <td>11.01</td>\n",
       "      <td>11</td>\n",
       "    </tr>\n",
       "    <tr>\n",
       "      <th>1</th>\n",
       "      <td>1101</td>\n",
       "      <td>KAB. SIMEULUE</td>\n",
       "      <td>1</td>\n",
       "      <td>KAB. ACEH TENGGARA</td>\n",
       "      <td>11.02</td>\n",
       "      <td>12</td>\n",
       "    </tr>\n",
       "    <tr>\n",
       "      <th>2</th>\n",
       "      <td>1101</td>\n",
       "      <td>KAB. SIMEULUE</td>\n",
       "      <td>1</td>\n",
       "      <td>KAB. ACEH TIMUR</td>\n",
       "      <td>11.03</td>\n",
       "      <td>9</td>\n",
       "    </tr>\n",
       "    <tr>\n",
       "      <th>3</th>\n",
       "      <td>1101</td>\n",
       "      <td>KAB. SIMEULUE</td>\n",
       "      <td>1</td>\n",
       "      <td>KAB. ACEH TENGAH</td>\n",
       "      <td>11.04</td>\n",
       "      <td>10</td>\n",
       "    </tr>\n",
       "    <tr>\n",
       "      <th>4</th>\n",
       "      <td>1101</td>\n",
       "      <td>KAB. SIMEULUE</td>\n",
       "      <td>1</td>\n",
       "      <td>KAB. ACEH BARAT</td>\n",
       "      <td>11.05</td>\n",
       "      <td>10</td>\n",
       "    </tr>\n",
       "  </tbody>\n",
       "</table>\n",
       "</div>"
      ],
      "text/plain": [
       "   KODE            KAB  key                 kab   kode  ed_distance\n",
       "0  1101  KAB. SIMEULUE    1   KAB. ACEH SELATAN  11.01           11\n",
       "1  1101  KAB. SIMEULUE    1  KAB. ACEH TENGGARA  11.02           12\n",
       "2  1101  KAB. SIMEULUE    1     KAB. ACEH TIMUR  11.03            9\n",
       "3  1101  KAB. SIMEULUE    1    KAB. ACEH TENGAH  11.04           10\n",
       "4  1101  KAB. SIMEULUE    1     KAB. ACEH BARAT  11.05           10"
      ]
     },
     "execution_count": 16,
     "metadata": {},
     "output_type": "execute_result"
    }
   ],
   "source": [
    "kab_cek.head()"
   ]
  },
  {
   "cell_type": "code",
   "execution_count": 17,
   "metadata": {
    "collapsed": true
   },
   "outputs": [],
   "source": [
    "kab_cek=kab_cek[kab_cek['ed_distance']<2]"
   ]
  },
  {
   "cell_type": "code",
   "execution_count": 18,
   "metadata": {},
   "outputs": [
    {
     "data": {
      "text/html": [
       "<div>\n",
       "<style>\n",
       "    .dataframe thead tr:only-child th {\n",
       "        text-align: right;\n",
       "    }\n",
       "\n",
       "    .dataframe thead th {\n",
       "        text-align: left;\n",
       "    }\n",
       "\n",
       "    .dataframe tbody tr th {\n",
       "        vertical-align: top;\n",
       "    }\n",
       "</style>\n",
       "<table border=\"1\" class=\"dataframe\">\n",
       "  <thead>\n",
       "    <tr style=\"text-align: right;\">\n",
       "      <th></th>\n",
       "      <th>KODE</th>\n",
       "      <th>KAB</th>\n",
       "      <th>key</th>\n",
       "      <th>kab</th>\n",
       "      <th>kode</th>\n",
       "      <th>ed_distance</th>\n",
       "    </tr>\n",
       "  </thead>\n",
       "  <tbody>\n",
       "    <tr>\n",
       "      <th>8</th>\n",
       "      <td>1101</td>\n",
       "      <td>KAB. SIMEULUE</td>\n",
       "      <td>1</td>\n",
       "      <td>KAB. SIMEULUE</td>\n",
       "      <td>11.09</td>\n",
       "      <td>0</td>\n",
       "    </tr>\n",
       "    <tr>\n",
       "      <th>523</th>\n",
       "      <td>1102</td>\n",
       "      <td>KAB. ACEH SINGKIL</td>\n",
       "      <td>1</td>\n",
       "      <td>KAB. ACEH SINGKIL</td>\n",
       "      <td>11.10</td>\n",
       "      <td>0</td>\n",
       "    </tr>\n",
       "    <tr>\n",
       "      <th>1028</th>\n",
       "      <td>1103</td>\n",
       "      <td>KAB. ACEH SELATAN</td>\n",
       "      <td>1</td>\n",
       "      <td>KAB. ACEH SELATAN</td>\n",
       "      <td>11.01</td>\n",
       "      <td>0</td>\n",
       "    </tr>\n",
       "    <tr>\n",
       "      <th>1543</th>\n",
       "      <td>1104</td>\n",
       "      <td>KAB. ACEH TENGGARA</td>\n",
       "      <td>1</td>\n",
       "      <td>KAB. ACEH TENGGARA</td>\n",
       "      <td>11.02</td>\n",
       "      <td>0</td>\n",
       "    </tr>\n",
       "    <tr>\n",
       "      <th>2058</th>\n",
       "      <td>1105</td>\n",
       "      <td>KAB. ACEH TIMUR</td>\n",
       "      <td>1</td>\n",
       "      <td>KAB. ACEH TIMUR</td>\n",
       "      <td>11.03</td>\n",
       "      <td>0</td>\n",
       "    </tr>\n",
       "  </tbody>\n",
       "</table>\n",
       "</div>"
      ],
      "text/plain": [
       "      KODE                 KAB  key                 kab   kode  ed_distance\n",
       "8     1101       KAB. SIMEULUE    1       KAB. SIMEULUE  11.09            0\n",
       "523   1102   KAB. ACEH SINGKIL    1   KAB. ACEH SINGKIL  11.10            0\n",
       "1028  1103   KAB. ACEH SELATAN    1   KAB. ACEH SELATAN  11.01            0\n",
       "1543  1104  KAB. ACEH TENGGARA    1  KAB. ACEH TENGGARA  11.02            0\n",
       "2058  1105     KAB. ACEH TIMUR    1     KAB. ACEH TIMUR  11.03            0"
      ]
     },
     "execution_count": 18,
     "metadata": {},
     "output_type": "execute_result"
    }
   ],
   "source": [
    "kab_cek.head()"
   ]
  },
  {
   "cell_type": "code",
   "execution_count": 19,
   "metadata": {
    "collapsed": true
   },
   "outputs": [],
   "source": [
    "kab_cek.to_csv('bridging_kab.csv', sep=';', float_format='%.2f')"
   ]
  },
  {
   "cell_type": "code",
   "execution_count": 20,
   "metadata": {
    "collapsed": true
   },
   "outputs": [],
   "source": [
    "kab_bps[~kab_bps['KODE'].isin(kab_cek['KODE'])].to_csv('kab_bps_tdk_rend.csv',sep=';')"
   ]
  },
  {
   "cell_type": "code",
   "execution_count": 21,
   "metadata": {
    "collapsed": true
   },
   "outputs": [],
   "source": [
    "kab_dagri[~kab_dagri['kode'].isin(kab_cek['kode'])].to_csv('kab_dagri_tdk_rend.csv',sep=';', float_format='%.2f')"
   ]
  },
  {
   "cell_type": "code",
   "execution_count": 22,
   "metadata": {
    "collapsed": true
   },
   "outputs": [],
   "source": [
    "### after manual checking \n",
    "\n",
    "kab_bridging=pd.read_excel('bridging_kab_ok.xlsx')"
   ]
  },
  {
   "cell_type": "code",
   "execution_count": 23,
   "metadata": {},
   "outputs": [
    {
     "data": {
      "text/html": [
       "<div>\n",
       "<style>\n",
       "    .dataframe thead tr:only-child th {\n",
       "        text-align: right;\n",
       "    }\n",
       "\n",
       "    .dataframe thead th {\n",
       "        text-align: left;\n",
       "    }\n",
       "\n",
       "    .dataframe tbody tr th {\n",
       "        vertical-align: top;\n",
       "    }\n",
       "</style>\n",
       "<table border=\"1\" class=\"dataframe\">\n",
       "  <thead>\n",
       "    <tr style=\"text-align: right;\">\n",
       "      <th></th>\n",
       "      <th>KODE BPS</th>\n",
       "      <th>KAB BPS</th>\n",
       "      <th>KAB DAGRI</th>\n",
       "      <th>KODE DAGRI</th>\n",
       "    </tr>\n",
       "  </thead>\n",
       "  <tbody>\n",
       "    <tr>\n",
       "      <th>0</th>\n",
       "      <td>1101</td>\n",
       "      <td>KAB. SIMEULUE</td>\n",
       "      <td>KAB. SIMEULUE</td>\n",
       "      <td>11.09</td>\n",
       "    </tr>\n",
       "    <tr>\n",
       "      <th>1</th>\n",
       "      <td>1102</td>\n",
       "      <td>KAB. ACEH SINGKIL</td>\n",
       "      <td>KAB. ACEH SINGKIL</td>\n",
       "      <td>11.10</td>\n",
       "    </tr>\n",
       "    <tr>\n",
       "      <th>2</th>\n",
       "      <td>1103</td>\n",
       "      <td>KAB. ACEH SELATAN</td>\n",
       "      <td>KAB. ACEH SELATAN</td>\n",
       "      <td>11.01</td>\n",
       "    </tr>\n",
       "    <tr>\n",
       "      <th>3</th>\n",
       "      <td>1104</td>\n",
       "      <td>KAB. ACEH TENGGARA</td>\n",
       "      <td>KAB. ACEH TENGGARA</td>\n",
       "      <td>11.02</td>\n",
       "    </tr>\n",
       "    <tr>\n",
       "      <th>4</th>\n",
       "      <td>1105</td>\n",
       "      <td>KAB. ACEH TIMUR</td>\n",
       "      <td>KAB. ACEH TIMUR</td>\n",
       "      <td>11.03</td>\n",
       "    </tr>\n",
       "  </tbody>\n",
       "</table>\n",
       "</div>"
      ],
      "text/plain": [
       "   KODE BPS             KAB BPS           KAB DAGRI  KODE DAGRI\n",
       "0      1101       KAB. SIMEULUE       KAB. SIMEULUE       11.09\n",
       "1      1102   KAB. ACEH SINGKIL   KAB. ACEH SINGKIL       11.10\n",
       "2      1103   KAB. ACEH SELATAN   KAB. ACEH SELATAN       11.01\n",
       "3      1104  KAB. ACEH TENGGARA  KAB. ACEH TENGGARA       11.02\n",
       "4      1105     KAB. ACEH TIMUR     KAB. ACEH TIMUR       11.03"
      ]
     },
     "execution_count": 23,
     "metadata": {},
     "output_type": "execute_result"
    }
   ],
   "source": [
    "kab_bridging.head()"
   ]
  },
  {
   "cell_type": "code",
   "execution_count": 65,
   "metadata": {
    "collapsed": true
   },
   "outputs": [],
   "source": [
    "kec_bps=pd.read_csv('kec_bps.csv',encoding='latin')"
   ]
  },
  {
   "cell_type": "code",
   "execution_count": 66,
   "metadata": {
    "collapsed": true
   },
   "outputs": [],
   "source": [
    "kec_bps=kec_bps.drop_duplicates()"
   ]
  },
  {
   "cell_type": "code",
   "execution_count": 67,
   "metadata": {
    "collapsed": true
   },
   "outputs": [],
   "source": [
    "kec_bps=kec_bps[['KODE_KEC','NMKEC']]"
   ]
  },
  {
   "cell_type": "code",
   "execution_count": 68,
   "metadata": {},
   "outputs": [
    {
     "data": {
      "text/html": [
       "<div>\n",
       "<style>\n",
       "    .dataframe thead tr:only-child th {\n",
       "        text-align: right;\n",
       "    }\n",
       "\n",
       "    .dataframe thead th {\n",
       "        text-align: left;\n",
       "    }\n",
       "\n",
       "    .dataframe tbody tr th {\n",
       "        vertical-align: top;\n",
       "    }\n",
       "</style>\n",
       "<table border=\"1\" class=\"dataframe\">\n",
       "  <thead>\n",
       "    <tr style=\"text-align: right;\">\n",
       "      <th></th>\n",
       "      <th>KODE_KEC</th>\n",
       "      <th>NMKEC</th>\n",
       "    </tr>\n",
       "  </thead>\n",
       "  <tbody>\n",
       "    <tr>\n",
       "      <th>0</th>\n",
       "      <td>1101010</td>\n",
       "      <td>TEUPAH SELATAN</td>\n",
       "    </tr>\n",
       "    <tr>\n",
       "      <th>1</th>\n",
       "      <td>1101010</td>\n",
       "      <td>TEUPAH SELATAN</td>\n",
       "    </tr>\n",
       "    <tr>\n",
       "      <th>2</th>\n",
       "      <td>1101010</td>\n",
       "      <td>TEUPAH SELATAN</td>\n",
       "    </tr>\n",
       "    <tr>\n",
       "      <th>3</th>\n",
       "      <td>1101010</td>\n",
       "      <td>TEUPAH SELATAN</td>\n",
       "    </tr>\n",
       "    <tr>\n",
       "      <th>4</th>\n",
       "      <td>1101010</td>\n",
       "      <td>TEUPAH SELATAN</td>\n",
       "    </tr>\n",
       "  </tbody>\n",
       "</table>\n",
       "</div>"
      ],
      "text/plain": [
       "   KODE_KEC           NMKEC\n",
       "0   1101010  TEUPAH SELATAN\n",
       "1   1101010  TEUPAH SELATAN\n",
       "2   1101010  TEUPAH SELATAN\n",
       "3   1101010  TEUPAH SELATAN\n",
       "4   1101010  TEUPAH SELATAN"
      ]
     },
     "execution_count": 68,
     "metadata": {},
     "output_type": "execute_result"
    }
   ],
   "source": [
    "kec_bps.head()"
   ]
  },
  {
   "cell_type": "code",
   "execution_count": 69,
   "metadata": {
    "collapsed": true
   },
   "outputs": [],
   "source": [
    "kec_bps['PARENT']=kec_bps.KODE_KEC.astype(str).str.slice(0,4)"
   ]
  },
  {
   "cell_type": "code",
   "execution_count": 70,
   "metadata": {},
   "outputs": [
    {
     "data": {
      "text/html": [
       "<div>\n",
       "<style>\n",
       "    .dataframe thead tr:only-child th {\n",
       "        text-align: right;\n",
       "    }\n",
       "\n",
       "    .dataframe thead th {\n",
       "        text-align: left;\n",
       "    }\n",
       "\n",
       "    .dataframe tbody tr th {\n",
       "        vertical-align: top;\n",
       "    }\n",
       "</style>\n",
       "<table border=\"1\" class=\"dataframe\">\n",
       "  <thead>\n",
       "    <tr style=\"text-align: right;\">\n",
       "      <th></th>\n",
       "      <th>KODE_KEC</th>\n",
       "      <th>NMKEC</th>\n",
       "      <th>PARENT</th>\n",
       "    </tr>\n",
       "  </thead>\n",
       "  <tbody>\n",
       "    <tr>\n",
       "      <th>0</th>\n",
       "      <td>1101010</td>\n",
       "      <td>TEUPAH SELATAN</td>\n",
       "      <td>1101</td>\n",
       "    </tr>\n",
       "    <tr>\n",
       "      <th>1</th>\n",
       "      <td>1101010</td>\n",
       "      <td>TEUPAH SELATAN</td>\n",
       "      <td>1101</td>\n",
       "    </tr>\n",
       "    <tr>\n",
       "      <th>2</th>\n",
       "      <td>1101010</td>\n",
       "      <td>TEUPAH SELATAN</td>\n",
       "      <td>1101</td>\n",
       "    </tr>\n",
       "    <tr>\n",
       "      <th>3</th>\n",
       "      <td>1101010</td>\n",
       "      <td>TEUPAH SELATAN</td>\n",
       "      <td>1101</td>\n",
       "    </tr>\n",
       "    <tr>\n",
       "      <th>4</th>\n",
       "      <td>1101010</td>\n",
       "      <td>TEUPAH SELATAN</td>\n",
       "      <td>1101</td>\n",
       "    </tr>\n",
       "  </tbody>\n",
       "</table>\n",
       "</div>"
      ],
      "text/plain": [
       "   KODE_KEC           NMKEC PARENT\n",
       "0   1101010  TEUPAH SELATAN   1101\n",
       "1   1101010  TEUPAH SELATAN   1101\n",
       "2   1101010  TEUPAH SELATAN   1101\n",
       "3   1101010  TEUPAH SELATAN   1101\n",
       "4   1101010  TEUPAH SELATAN   1101"
      ]
     },
     "execution_count": 70,
     "metadata": {},
     "output_type": "execute_result"
    }
   ],
   "source": [
    "kec_bps.head()"
   ]
  },
  {
   "cell_type": "code",
   "execution_count": 71,
   "metadata": {
    "collapsed": true
   },
   "outputs": [],
   "source": [
    "kec_bps['PARENT']=pd.to_numeric(kec_bps['PARENT'])"
   ]
  },
  {
   "cell_type": "code",
   "execution_count": 72,
   "metadata": {},
   "outputs": [
    {
     "data": {
      "text/plain": [
       "KODE_KEC     int64\n",
       "NMKEC       object\n",
       "PARENT       int64\n",
       "dtype: object"
      ]
     },
     "execution_count": 72,
     "metadata": {},
     "output_type": "execute_result"
    }
   ],
   "source": [
    "kec_bps.dtypes"
   ]
  },
  {
   "cell_type": "code",
   "execution_count": 73,
   "metadata": {},
   "outputs": [
    {
     "data": {
      "text/plain": [
       "KODE BPS        int64\n",
       "KAB BPS        object\n",
       "KAB DAGRI      object\n",
       "KODE DAGRI    float64\n",
       "dtype: object"
      ]
     },
     "execution_count": 73,
     "metadata": {},
     "output_type": "execute_result"
    }
   ],
   "source": [
    "kab_bridging.dtypes"
   ]
  },
  {
   "cell_type": "code",
   "execution_count": 74,
   "metadata": {},
   "outputs": [
    {
     "data": {
      "text/html": [
       "<div>\n",
       "<style>\n",
       "    .dataframe thead tr:only-child th {\n",
       "        text-align: right;\n",
       "    }\n",
       "\n",
       "    .dataframe thead th {\n",
       "        text-align: left;\n",
       "    }\n",
       "\n",
       "    .dataframe tbody tr th {\n",
       "        vertical-align: top;\n",
       "    }\n",
       "</style>\n",
       "<table border=\"1\" class=\"dataframe\">\n",
       "  <thead>\n",
       "    <tr style=\"text-align: right;\">\n",
       "      <th></th>\n",
       "      <th>KODE_KEC</th>\n",
       "      <th>NMKEC</th>\n",
       "      <th>PARENT</th>\n",
       "      <th>KODE BPS</th>\n",
       "      <th>KAB BPS</th>\n",
       "      <th>KAB DAGRI</th>\n",
       "      <th>KODE DAGRI</th>\n",
       "    </tr>\n",
       "  </thead>\n",
       "  <tbody>\n",
       "    <tr>\n",
       "      <th>0</th>\n",
       "      <td>1101010</td>\n",
       "      <td>TEUPAH SELATAN</td>\n",
       "      <td>1101</td>\n",
       "      <td>1101</td>\n",
       "      <td>KAB. SIMEULUE</td>\n",
       "      <td>KAB. SIMEULUE</td>\n",
       "      <td>11.09</td>\n",
       "    </tr>\n",
       "    <tr>\n",
       "      <th>1</th>\n",
       "      <td>1101010</td>\n",
       "      <td>TEUPAH SELATAN</td>\n",
       "      <td>1101</td>\n",
       "      <td>1101</td>\n",
       "      <td>KAB. SIMEULUE</td>\n",
       "      <td>KAB. SIMEULUE</td>\n",
       "      <td>11.09</td>\n",
       "    </tr>\n",
       "    <tr>\n",
       "      <th>2</th>\n",
       "      <td>1101010</td>\n",
       "      <td>TEUPAH SELATAN</td>\n",
       "      <td>1101</td>\n",
       "      <td>1101</td>\n",
       "      <td>KAB. SIMEULUE</td>\n",
       "      <td>KAB. SIMEULUE</td>\n",
       "      <td>11.09</td>\n",
       "    </tr>\n",
       "    <tr>\n",
       "      <th>3</th>\n",
       "      <td>1101010</td>\n",
       "      <td>TEUPAH SELATAN</td>\n",
       "      <td>1101</td>\n",
       "      <td>1101</td>\n",
       "      <td>KAB. SIMEULUE</td>\n",
       "      <td>KAB. SIMEULUE</td>\n",
       "      <td>11.09</td>\n",
       "    </tr>\n",
       "    <tr>\n",
       "      <th>4</th>\n",
       "      <td>1101010</td>\n",
       "      <td>TEUPAH SELATAN</td>\n",
       "      <td>1101</td>\n",
       "      <td>1101</td>\n",
       "      <td>KAB. SIMEULUE</td>\n",
       "      <td>KAB. SIMEULUE</td>\n",
       "      <td>11.09</td>\n",
       "    </tr>\n",
       "  </tbody>\n",
       "</table>\n",
       "</div>"
      ],
      "text/plain": [
       "   KODE_KEC           NMKEC  PARENT  KODE BPS        KAB BPS      KAB DAGRI  \\\n",
       "0   1101010  TEUPAH SELATAN    1101      1101  KAB. SIMEULUE  KAB. SIMEULUE   \n",
       "1   1101010  TEUPAH SELATAN    1101      1101  KAB. SIMEULUE  KAB. SIMEULUE   \n",
       "2   1101010  TEUPAH SELATAN    1101      1101  KAB. SIMEULUE  KAB. SIMEULUE   \n",
       "3   1101010  TEUPAH SELATAN    1101      1101  KAB. SIMEULUE  KAB. SIMEULUE   \n",
       "4   1101010  TEUPAH SELATAN    1101      1101  KAB. SIMEULUE  KAB. SIMEULUE   \n",
       "\n",
       "   KODE DAGRI  \n",
       "0       11.09  \n",
       "1       11.09  \n",
       "2       11.09  \n",
       "3       11.09  \n",
       "4       11.09  "
      ]
     },
     "execution_count": 74,
     "metadata": {},
     "output_type": "execute_result"
    }
   ],
   "source": [
    "kec_bps_temp=kec_bps.merge(kab_bridging,how='left',left_on='PARENT',right_on='KODE BPS')\n",
    "kec_bps_temp.head()"
   ]
  },
  {
   "cell_type": "code",
   "execution_count": 75,
   "metadata": {
    "collapsed": true
   },
   "outputs": [],
   "source": [
    "kec_bps_temp=kec_bps_temp.drop_duplicates()"
   ]
  },
  {
   "cell_type": "code",
   "execution_count": 76,
   "metadata": {},
   "outputs": [
    {
     "data": {
      "text/html": [
       "<div>\n",
       "<style>\n",
       "    .dataframe thead tr:only-child th {\n",
       "        text-align: right;\n",
       "    }\n",
       "\n",
       "    .dataframe thead th {\n",
       "        text-align: left;\n",
       "    }\n",
       "\n",
       "    .dataframe tbody tr th {\n",
       "        vertical-align: top;\n",
       "    }\n",
       "</style>\n",
       "<table border=\"1\" class=\"dataframe\">\n",
       "  <thead>\n",
       "    <tr style=\"text-align: right;\">\n",
       "      <th></th>\n",
       "      <th>KODE_KEC</th>\n",
       "      <th>NMKEC</th>\n",
       "      <th>PARENT</th>\n",
       "      <th>KODE BPS</th>\n",
       "      <th>KAB BPS</th>\n",
       "      <th>KAB DAGRI</th>\n",
       "      <th>KODE DAGRI</th>\n",
       "    </tr>\n",
       "  </thead>\n",
       "  <tbody>\n",
       "    <tr>\n",
       "      <th>0</th>\n",
       "      <td>1101010</td>\n",
       "      <td>TEUPAH SELATAN</td>\n",
       "      <td>1101</td>\n",
       "      <td>1101</td>\n",
       "      <td>KAB. SIMEULUE</td>\n",
       "      <td>KAB. SIMEULUE</td>\n",
       "      <td>11.09</td>\n",
       "    </tr>\n",
       "    <tr>\n",
       "      <th>19</th>\n",
       "      <td>1101020</td>\n",
       "      <td>SIMEULUE TIMUR</td>\n",
       "      <td>1101</td>\n",
       "      <td>1101</td>\n",
       "      <td>KAB. SIMEULUE</td>\n",
       "      <td>KAB. SIMEULUE</td>\n",
       "      <td>11.09</td>\n",
       "    </tr>\n",
       "    <tr>\n",
       "      <th>36</th>\n",
       "      <td>1101021</td>\n",
       "      <td>TEUPAH BARAT</td>\n",
       "      <td>1101</td>\n",
       "      <td>1101</td>\n",
       "      <td>KAB. SIMEULUE</td>\n",
       "      <td>KAB. SIMEULUE</td>\n",
       "      <td>11.09</td>\n",
       "    </tr>\n",
       "    <tr>\n",
       "      <th>54</th>\n",
       "      <td>1101022</td>\n",
       "      <td>TEUPAH TENGAH</td>\n",
       "      <td>1101</td>\n",
       "      <td>1101</td>\n",
       "      <td>KAB. SIMEULUE</td>\n",
       "      <td>KAB. SIMEULUE</td>\n",
       "      <td>11.09</td>\n",
       "    </tr>\n",
       "    <tr>\n",
       "      <th>66</th>\n",
       "      <td>1101030</td>\n",
       "      <td>SIMEULUE TENGAH</td>\n",
       "      <td>1101</td>\n",
       "      <td>1101</td>\n",
       "      <td>KAB. SIMEULUE</td>\n",
       "      <td>KAB. SIMEULUE</td>\n",
       "      <td>11.09</td>\n",
       "    </tr>\n",
       "  </tbody>\n",
       "</table>\n",
       "</div>"
      ],
      "text/plain": [
       "    KODE_KEC            NMKEC  PARENT  KODE BPS        KAB BPS      KAB DAGRI  \\\n",
       "0    1101010   TEUPAH SELATAN    1101      1101  KAB. SIMEULUE  KAB. SIMEULUE   \n",
       "19   1101020   SIMEULUE TIMUR    1101      1101  KAB. SIMEULUE  KAB. SIMEULUE   \n",
       "36   1101021     TEUPAH BARAT    1101      1101  KAB. SIMEULUE  KAB. SIMEULUE   \n",
       "54   1101022    TEUPAH TENGAH    1101      1101  KAB. SIMEULUE  KAB. SIMEULUE   \n",
       "66   1101030  SIMEULUE TENGAH    1101      1101  KAB. SIMEULUE  KAB. SIMEULUE   \n",
       "\n",
       "    KODE DAGRI  \n",
       "0        11.09  \n",
       "19       11.09  \n",
       "36       11.09  \n",
       "54       11.09  \n",
       "66       11.09  "
      ]
     },
     "execution_count": 76,
     "metadata": {},
     "output_type": "execute_result"
    }
   ],
   "source": [
    "kec_bps_temp.head()"
   ]
  },
  {
   "cell_type": "code",
   "execution_count": 77,
   "metadata": {
    "collapsed": true
   },
   "outputs": [],
   "source": [
    "kec_dagri=pd.read_csv('kec_dagri.csv',encoding='latin')"
   ]
  },
  {
   "cell_type": "code",
   "execution_count": 78,
   "metadata": {},
   "outputs": [
    {
     "data": {
      "text/html": [
       "<div>\n",
       "<style>\n",
       "    .dataframe thead tr:only-child th {\n",
       "        text-align: right;\n",
       "    }\n",
       "\n",
       "    .dataframe thead th {\n",
       "        text-align: left;\n",
       "    }\n",
       "\n",
       "    .dataframe tbody tr th {\n",
       "        vertical-align: top;\n",
       "    }\n",
       "</style>\n",
       "<table border=\"1\" class=\"dataframe\">\n",
       "  <thead>\n",
       "    <tr style=\"text-align: right;\">\n",
       "      <th></th>\n",
       "      <th>Unnamed: 0</th>\n",
       "      <th>kec</th>\n",
       "      <th>kode</th>\n",
       "    </tr>\n",
       "  </thead>\n",
       "  <tbody>\n",
       "    <tr>\n",
       "      <th>0</th>\n",
       "      <td>18</td>\n",
       "      <td>Bakongan</td>\n",
       "      <td>11.01.01</td>\n",
       "    </tr>\n",
       "    <tr>\n",
       "      <th>1</th>\n",
       "      <td>54</td>\n",
       "      <td>Kluet Utara</td>\n",
       "      <td>11.01.02</td>\n",
       "    </tr>\n",
       "    <tr>\n",
       "      <th>2</th>\n",
       "      <td>98</td>\n",
       "      <td>Kluet Selatan</td>\n",
       "      <td>11.01.03</td>\n",
       "    </tr>\n",
       "    <tr>\n",
       "      <th>3</th>\n",
       "      <td>134</td>\n",
       "      <td>Labuhan Haji</td>\n",
       "      <td>11.01.04</td>\n",
       "    </tr>\n",
       "    <tr>\n",
       "      <th>4</th>\n",
       "      <td>168</td>\n",
       "      <td>Meukek</td>\n",
       "      <td>11.01.05</td>\n",
       "    </tr>\n",
       "  </tbody>\n",
       "</table>\n",
       "</div>"
      ],
      "text/plain": [
       "   Unnamed: 0            kec      kode\n",
       "0          18       Bakongan  11.01.01\n",
       "1          54    Kluet Utara  11.01.02\n",
       "2          98  Kluet Selatan  11.01.03\n",
       "3         134   Labuhan Haji  11.01.04\n",
       "4         168         Meukek  11.01.05"
      ]
     },
     "execution_count": 78,
     "metadata": {},
     "output_type": "execute_result"
    }
   ],
   "source": [
    "kec_dagri.head()"
   ]
  },
  {
   "cell_type": "code",
   "execution_count": 79,
   "metadata": {
    "collapsed": true
   },
   "outputs": [],
   "source": [
    "kec_dagri['PARENT']=pd.to_numeric(kec_dagri.kode.astype(str).str.slice(0,5))"
   ]
  },
  {
   "cell_type": "code",
   "execution_count": 80,
   "metadata": {
    "collapsed": true
   },
   "outputs": [],
   "source": [
    "kec_dagri_temp=kec_dagri.merge(kab_bridging,how='left',left_on='PARENT',right_on='KODE DAGRI')"
   ]
  },
  {
   "cell_type": "code",
   "execution_count": 81,
   "metadata": {},
   "outputs": [],
   "source": [
    "kec_dagri_temp.kec=kec_dagri_temp.kec.str.upper()"
   ]
  },
  {
   "cell_type": "code",
   "execution_count": 82,
   "metadata": {},
   "outputs": [
    {
     "data": {
      "text/html": [
       "<div>\n",
       "<style>\n",
       "    .dataframe thead tr:only-child th {\n",
       "        text-align: right;\n",
       "    }\n",
       "\n",
       "    .dataframe thead th {\n",
       "        text-align: left;\n",
       "    }\n",
       "\n",
       "    .dataframe tbody tr th {\n",
       "        vertical-align: top;\n",
       "    }\n",
       "</style>\n",
       "<table border=\"1\" class=\"dataframe\">\n",
       "  <thead>\n",
       "    <tr style=\"text-align: right;\">\n",
       "      <th></th>\n",
       "      <th>Unnamed: 0</th>\n",
       "      <th>kec</th>\n",
       "      <th>kode</th>\n",
       "      <th>PARENT</th>\n",
       "      <th>KODE BPS</th>\n",
       "      <th>KAB BPS</th>\n",
       "      <th>KAB DAGRI</th>\n",
       "      <th>KODE DAGRI</th>\n",
       "    </tr>\n",
       "  </thead>\n",
       "  <tbody>\n",
       "    <tr>\n",
       "      <th>0</th>\n",
       "      <td>18</td>\n",
       "      <td>BAKONGAN</td>\n",
       "      <td>11.01.01</td>\n",
       "      <td>11.01</td>\n",
       "      <td>1103</td>\n",
       "      <td>KAB. ACEH SELATAN</td>\n",
       "      <td>KAB. ACEH SELATAN</td>\n",
       "      <td>11.01</td>\n",
       "    </tr>\n",
       "    <tr>\n",
       "      <th>1</th>\n",
       "      <td>54</td>\n",
       "      <td>KLUET UTARA</td>\n",
       "      <td>11.01.02</td>\n",
       "      <td>11.01</td>\n",
       "      <td>1103</td>\n",
       "      <td>KAB. ACEH SELATAN</td>\n",
       "      <td>KAB. ACEH SELATAN</td>\n",
       "      <td>11.01</td>\n",
       "    </tr>\n",
       "    <tr>\n",
       "      <th>2</th>\n",
       "      <td>98</td>\n",
       "      <td>KLUET SELATAN</td>\n",
       "      <td>11.01.03</td>\n",
       "      <td>11.01</td>\n",
       "      <td>1103</td>\n",
       "      <td>KAB. ACEH SELATAN</td>\n",
       "      <td>KAB. ACEH SELATAN</td>\n",
       "      <td>11.01</td>\n",
       "    </tr>\n",
       "    <tr>\n",
       "      <th>3</th>\n",
       "      <td>134</td>\n",
       "      <td>LABUHAN HAJI</td>\n",
       "      <td>11.01.04</td>\n",
       "      <td>11.01</td>\n",
       "      <td>1103</td>\n",
       "      <td>KAB. ACEH SELATAN</td>\n",
       "      <td>KAB. ACEH SELATAN</td>\n",
       "      <td>11.01</td>\n",
       "    </tr>\n",
       "    <tr>\n",
       "      <th>4</th>\n",
       "      <td>168</td>\n",
       "      <td>MEUKEK</td>\n",
       "      <td>11.01.05</td>\n",
       "      <td>11.01</td>\n",
       "      <td>1103</td>\n",
       "      <td>KAB. ACEH SELATAN</td>\n",
       "      <td>KAB. ACEH SELATAN</td>\n",
       "      <td>11.01</td>\n",
       "    </tr>\n",
       "  </tbody>\n",
       "</table>\n",
       "</div>"
      ],
      "text/plain": [
       "   Unnamed: 0            kec      kode  PARENT  KODE BPS            KAB BPS  \\\n",
       "0          18       BAKONGAN  11.01.01   11.01      1103  KAB. ACEH SELATAN   \n",
       "1          54    KLUET UTARA  11.01.02   11.01      1103  KAB. ACEH SELATAN   \n",
       "2          98  KLUET SELATAN  11.01.03   11.01      1103  KAB. ACEH SELATAN   \n",
       "3         134   LABUHAN HAJI  11.01.04   11.01      1103  KAB. ACEH SELATAN   \n",
       "4         168         MEUKEK  11.01.05   11.01      1103  KAB. ACEH SELATAN   \n",
       "\n",
       "           KAB DAGRI  KODE DAGRI  \n",
       "0  KAB. ACEH SELATAN       11.01  \n",
       "1  KAB. ACEH SELATAN       11.01  \n",
       "2  KAB. ACEH SELATAN       11.01  \n",
       "3  KAB. ACEH SELATAN       11.01  \n",
       "4  KAB. ACEH SELATAN       11.01  "
      ]
     },
     "execution_count": 82,
     "metadata": {},
     "output_type": "execute_result"
    }
   ],
   "source": [
    "kec_dagri_temp.head()"
   ]
  },
  {
   "cell_type": "code",
   "execution_count": 83,
   "metadata": {},
   "outputs": [],
   "source": [
    "kec_dagri_temp=kec_dagri_temp.drop('PARENT',1)\n",
    "kec_bps_temp=kec_bps_temp.drop('PARENT',1)"
   ]
  },
  {
   "cell_type": "code",
   "execution_count": 84,
   "metadata": {},
   "outputs": [],
   "source": [
    "kec_bps_temp=kec_bps_temp[['NMKEC','KODE_KEC','KODE BPS','KAB BPS','KAB DAGRI','KODE DAGRI']]\n",
    "kec_dagri_temp=kec_dagri_temp[['kec','kode','KODE BPS','KAB BPS','KAB DAGRI','KODE DAGRI']]"
   ]
  },
  {
   "cell_type": "code",
   "execution_count": 125,
   "metadata": {
    "collapsed": true
   },
   "outputs": [],
   "source": [
    "kec_cek=kec_bps_temp.merge(kec_dagri_temp,how='outer')"
   ]
  },
  {
   "cell_type": "code",
   "execution_count": 126,
   "metadata": {},
   "outputs": [
    {
     "data": {
      "text/plain": [
       "(134712, 8)"
      ]
     },
     "execution_count": 126,
     "metadata": {},
     "output_type": "execute_result"
    }
   ],
   "source": [
    "kec_cek.shape"
   ]
  },
  {
   "cell_type": "code",
   "execution_count": 128,
   "metadata": {},
   "outputs": [
    {
     "data": {
      "text/html": [
       "<div>\n",
       "<style>\n",
       "    .dataframe thead tr:only-child th {\n",
       "        text-align: right;\n",
       "    }\n",
       "\n",
       "    .dataframe thead th {\n",
       "        text-align: left;\n",
       "    }\n",
       "\n",
       "    .dataframe tbody tr th {\n",
       "        vertical-align: top;\n",
       "    }\n",
       "</style>\n",
       "<table border=\"1\" class=\"dataframe\">\n",
       "  <thead>\n",
       "    <tr style=\"text-align: right;\">\n",
       "      <th></th>\n",
       "      <th>NMKEC</th>\n",
       "      <th>KODE_KEC</th>\n",
       "      <th>KODE BPS</th>\n",
       "      <th>KAB BPS</th>\n",
       "      <th>KAB DAGRI</th>\n",
       "      <th>KODE DAGRI</th>\n",
       "      <th>kec</th>\n",
       "      <th>kode</th>\n",
       "    </tr>\n",
       "  </thead>\n",
       "  <tbody>\n",
       "    <tr>\n",
       "      <th>0</th>\n",
       "      <td>TEUPAH SELATAN</td>\n",
       "      <td>1101010</td>\n",
       "      <td>1101</td>\n",
       "      <td>KAB. SIMEULUE</td>\n",
       "      <td>KAB. SIMEULUE</td>\n",
       "      <td>11.09</td>\n",
       "      <td>SIMEULUE TENGAH</td>\n",
       "      <td>11.09.01</td>\n",
       "    </tr>\n",
       "    <tr>\n",
       "      <th>1</th>\n",
       "      <td>TEUPAH SELATAN</td>\n",
       "      <td>1101010</td>\n",
       "      <td>1101</td>\n",
       "      <td>KAB. SIMEULUE</td>\n",
       "      <td>KAB. SIMEULUE</td>\n",
       "      <td>11.09</td>\n",
       "      <td>SALANG</td>\n",
       "      <td>11.09.02</td>\n",
       "    </tr>\n",
       "    <tr>\n",
       "      <th>2</th>\n",
       "      <td>TEUPAH SELATAN</td>\n",
       "      <td>1101010</td>\n",
       "      <td>1101</td>\n",
       "      <td>KAB. SIMEULUE</td>\n",
       "      <td>KAB. SIMEULUE</td>\n",
       "      <td>11.09</td>\n",
       "      <td>TEUPAH BARAT</td>\n",
       "      <td>11.09.03</td>\n",
       "    </tr>\n",
       "    <tr>\n",
       "      <th>3</th>\n",
       "      <td>TEUPAH SELATAN</td>\n",
       "      <td>1101010</td>\n",
       "      <td>1101</td>\n",
       "      <td>KAB. SIMEULUE</td>\n",
       "      <td>KAB. SIMEULUE</td>\n",
       "      <td>11.09</td>\n",
       "      <td>SIMEULUE TIMUR</td>\n",
       "      <td>11.09.04</td>\n",
       "    </tr>\n",
       "    <tr>\n",
       "      <th>4</th>\n",
       "      <td>TEUPAH SELATAN</td>\n",
       "      <td>1101010</td>\n",
       "      <td>1101</td>\n",
       "      <td>KAB. SIMEULUE</td>\n",
       "      <td>KAB. SIMEULUE</td>\n",
       "      <td>11.09</td>\n",
       "      <td>TELUK DALAM</td>\n",
       "      <td>11.09.05</td>\n",
       "    </tr>\n",
       "  </tbody>\n",
       "</table>\n",
       "</div>"
      ],
      "text/plain": [
       "            NMKEC  KODE_KEC  KODE BPS        KAB BPS      KAB DAGRI  \\\n",
       "0  TEUPAH SELATAN   1101010      1101  KAB. SIMEULUE  KAB. SIMEULUE   \n",
       "1  TEUPAH SELATAN   1101010      1101  KAB. SIMEULUE  KAB. SIMEULUE   \n",
       "2  TEUPAH SELATAN   1101010      1101  KAB. SIMEULUE  KAB. SIMEULUE   \n",
       "3  TEUPAH SELATAN   1101010      1101  KAB. SIMEULUE  KAB. SIMEULUE   \n",
       "4  TEUPAH SELATAN   1101010      1101  KAB. SIMEULUE  KAB. SIMEULUE   \n",
       "\n",
       "   KODE DAGRI              kec      kode  \n",
       "0       11.09  SIMEULUE TENGAH  11.09.01  \n",
       "1       11.09           SALANG  11.09.02  \n",
       "2       11.09     TEUPAH BARAT  11.09.03  \n",
       "3       11.09   SIMEULUE TIMUR  11.09.04  \n",
       "4       11.09      TELUK DALAM  11.09.05  "
      ]
     },
     "execution_count": 128,
     "metadata": {},
     "output_type": "execute_result"
    }
   ],
   "source": [
    "kec_cek.head()"
   ]
  },
  {
   "cell_type": "code",
   "execution_count": 129,
   "metadata": {
    "collapsed": true
   },
   "outputs": [],
   "source": [
    "kec_cek=kec_cek[['KODE_KEC','NMKEC','KODE BPS','KAB BPS','KAB DAGRI','KODE DAGRI','kec','kode']]"
   ]
  },
  {
   "cell_type": "code",
   "execution_count": 130,
   "metadata": {},
   "outputs": [
    {
     "data": {
      "text/html": [
       "<div>\n",
       "<style>\n",
       "    .dataframe thead tr:only-child th {\n",
       "        text-align: right;\n",
       "    }\n",
       "\n",
       "    .dataframe thead th {\n",
       "        text-align: left;\n",
       "    }\n",
       "\n",
       "    .dataframe tbody tr th {\n",
       "        vertical-align: top;\n",
       "    }\n",
       "</style>\n",
       "<table border=\"1\" class=\"dataframe\">\n",
       "  <thead>\n",
       "    <tr style=\"text-align: right;\">\n",
       "      <th></th>\n",
       "      <th>KODE_KEC</th>\n",
       "      <th>NMKEC</th>\n",
       "      <th>KODE BPS</th>\n",
       "      <th>KAB BPS</th>\n",
       "      <th>KAB DAGRI</th>\n",
       "      <th>KODE DAGRI</th>\n",
       "      <th>kec</th>\n",
       "      <th>kode</th>\n",
       "    </tr>\n",
       "  </thead>\n",
       "  <tbody>\n",
       "    <tr>\n",
       "      <th>0</th>\n",
       "      <td>1101010</td>\n",
       "      <td>TEUPAH SELATAN</td>\n",
       "      <td>1101</td>\n",
       "      <td>KAB. SIMEULUE</td>\n",
       "      <td>KAB. SIMEULUE</td>\n",
       "      <td>11.09</td>\n",
       "      <td>SIMEULUE TENGAH</td>\n",
       "      <td>11.09.01</td>\n",
       "    </tr>\n",
       "    <tr>\n",
       "      <th>1</th>\n",
       "      <td>1101010</td>\n",
       "      <td>TEUPAH SELATAN</td>\n",
       "      <td>1101</td>\n",
       "      <td>KAB. SIMEULUE</td>\n",
       "      <td>KAB. SIMEULUE</td>\n",
       "      <td>11.09</td>\n",
       "      <td>SALANG</td>\n",
       "      <td>11.09.02</td>\n",
       "    </tr>\n",
       "    <tr>\n",
       "      <th>2</th>\n",
       "      <td>1101010</td>\n",
       "      <td>TEUPAH SELATAN</td>\n",
       "      <td>1101</td>\n",
       "      <td>KAB. SIMEULUE</td>\n",
       "      <td>KAB. SIMEULUE</td>\n",
       "      <td>11.09</td>\n",
       "      <td>TEUPAH BARAT</td>\n",
       "      <td>11.09.03</td>\n",
       "    </tr>\n",
       "    <tr>\n",
       "      <th>3</th>\n",
       "      <td>1101010</td>\n",
       "      <td>TEUPAH SELATAN</td>\n",
       "      <td>1101</td>\n",
       "      <td>KAB. SIMEULUE</td>\n",
       "      <td>KAB. SIMEULUE</td>\n",
       "      <td>11.09</td>\n",
       "      <td>SIMEULUE TIMUR</td>\n",
       "      <td>11.09.04</td>\n",
       "    </tr>\n",
       "    <tr>\n",
       "      <th>4</th>\n",
       "      <td>1101010</td>\n",
       "      <td>TEUPAH SELATAN</td>\n",
       "      <td>1101</td>\n",
       "      <td>KAB. SIMEULUE</td>\n",
       "      <td>KAB. SIMEULUE</td>\n",
       "      <td>11.09</td>\n",
       "      <td>TELUK DALAM</td>\n",
       "      <td>11.09.05</td>\n",
       "    </tr>\n",
       "  </tbody>\n",
       "</table>\n",
       "</div>"
      ],
      "text/plain": [
       "   KODE_KEC           NMKEC  KODE BPS        KAB BPS      KAB DAGRI  \\\n",
       "0   1101010  TEUPAH SELATAN      1101  KAB. SIMEULUE  KAB. SIMEULUE   \n",
       "1   1101010  TEUPAH SELATAN      1101  KAB. SIMEULUE  KAB. SIMEULUE   \n",
       "2   1101010  TEUPAH SELATAN      1101  KAB. SIMEULUE  KAB. SIMEULUE   \n",
       "3   1101010  TEUPAH SELATAN      1101  KAB. SIMEULUE  KAB. SIMEULUE   \n",
       "4   1101010  TEUPAH SELATAN      1101  KAB. SIMEULUE  KAB. SIMEULUE   \n",
       "\n",
       "   KODE DAGRI              kec      kode  \n",
       "0       11.09  SIMEULUE TENGAH  11.09.01  \n",
       "1       11.09           SALANG  11.09.02  \n",
       "2       11.09     TEUPAH BARAT  11.09.03  \n",
       "3       11.09   SIMEULUE TIMUR  11.09.04  \n",
       "4       11.09      TELUK DALAM  11.09.05  "
      ]
     },
     "execution_count": 130,
     "metadata": {},
     "output_type": "execute_result"
    }
   ],
   "source": [
    "kec_cek.head()"
   ]
  },
  {
   "cell_type": "code",
   "execution_count": 132,
   "metadata": {},
   "outputs": [
    {
     "name": "stderr",
     "output_type": "stream",
     "text": [
      "D:\\Anaconda\\lib\\site-packages\\ipykernel_launcher.py:1: SettingWithCopyWarning: \n",
      "A value is trying to be set on a copy of a slice from a DataFrame.\n",
      "Try using .loc[row_indexer,col_indexer] = value instead\n",
      "\n",
      "See the caveats in the documentation: http://pandas.pydata.org/pandas-docs/stable/indexing.html#indexing-view-versus-copy\n",
      "  \"\"\"Entry point for launching an IPython kernel.\n"
     ]
    }
   ],
   "source": [
    "kec_cek[\"ed_distance\"] = kec_cek.loc[:, [\"NMKEC\",\"kec\"]].apply(lambda x: edit_distance(*x), axis=1)"
   ]
  },
  {
   "cell_type": "code",
   "execution_count": 133,
   "metadata": {},
   "outputs": [
    {
     "data": {
      "text/html": [
       "<div>\n",
       "<style>\n",
       "    .dataframe thead tr:only-child th {\n",
       "        text-align: right;\n",
       "    }\n",
       "\n",
       "    .dataframe thead th {\n",
       "        text-align: left;\n",
       "    }\n",
       "\n",
       "    .dataframe tbody tr th {\n",
       "        vertical-align: top;\n",
       "    }\n",
       "</style>\n",
       "<table border=\"1\" class=\"dataframe\">\n",
       "  <thead>\n",
       "    <tr style=\"text-align: right;\">\n",
       "      <th></th>\n",
       "      <th>KODE_KEC</th>\n",
       "      <th>NMKEC</th>\n",
       "      <th>KODE BPS</th>\n",
       "      <th>KAB BPS</th>\n",
       "      <th>KAB DAGRI</th>\n",
       "      <th>KODE DAGRI</th>\n",
       "      <th>kec</th>\n",
       "      <th>kode</th>\n",
       "      <th>ed_distance</th>\n",
       "    </tr>\n",
       "  </thead>\n",
       "  <tbody>\n",
       "    <tr>\n",
       "      <th>0</th>\n",
       "      <td>1101010</td>\n",
       "      <td>TEUPAH SELATAN</td>\n",
       "      <td>1101</td>\n",
       "      <td>KAB. SIMEULUE</td>\n",
       "      <td>KAB. SIMEULUE</td>\n",
       "      <td>11.09</td>\n",
       "      <td>SIMEULUE TENGAH</td>\n",
       "      <td>11.09.01</td>\n",
       "      <td>11</td>\n",
       "    </tr>\n",
       "    <tr>\n",
       "      <th>1</th>\n",
       "      <td>1101010</td>\n",
       "      <td>TEUPAH SELATAN</td>\n",
       "      <td>1101</td>\n",
       "      <td>KAB. SIMEULUE</td>\n",
       "      <td>KAB. SIMEULUE</td>\n",
       "      <td>11.09</td>\n",
       "      <td>SALANG</td>\n",
       "      <td>11.09.02</td>\n",
       "      <td>11</td>\n",
       "    </tr>\n",
       "    <tr>\n",
       "      <th>2</th>\n",
       "      <td>1101010</td>\n",
       "      <td>TEUPAH SELATAN</td>\n",
       "      <td>1101</td>\n",
       "      <td>KAB. SIMEULUE</td>\n",
       "      <td>KAB. SIMEULUE</td>\n",
       "      <td>11.09</td>\n",
       "      <td>TEUPAH BARAT</td>\n",
       "      <td>11.09.03</td>\n",
       "      <td>5</td>\n",
       "    </tr>\n",
       "    <tr>\n",
       "      <th>3</th>\n",
       "      <td>1101010</td>\n",
       "      <td>TEUPAH SELATAN</td>\n",
       "      <td>1101</td>\n",
       "      <td>KAB. SIMEULUE</td>\n",
       "      <td>KAB. SIMEULUE</td>\n",
       "      <td>11.09</td>\n",
       "      <td>SIMEULUE TIMUR</td>\n",
       "      <td>11.09.04</td>\n",
       "      <td>13</td>\n",
       "    </tr>\n",
       "    <tr>\n",
       "      <th>4</th>\n",
       "      <td>1101010</td>\n",
       "      <td>TEUPAH SELATAN</td>\n",
       "      <td>1101</td>\n",
       "      <td>KAB. SIMEULUE</td>\n",
       "      <td>KAB. SIMEULUE</td>\n",
       "      <td>11.09</td>\n",
       "      <td>TELUK DALAM</td>\n",
       "      <td>11.09.05</td>\n",
       "      <td>9</td>\n",
       "    </tr>\n",
       "  </tbody>\n",
       "</table>\n",
       "</div>"
      ],
      "text/plain": [
       "   KODE_KEC           NMKEC  KODE BPS        KAB BPS      KAB DAGRI  \\\n",
       "0   1101010  TEUPAH SELATAN      1101  KAB. SIMEULUE  KAB. SIMEULUE   \n",
       "1   1101010  TEUPAH SELATAN      1101  KAB. SIMEULUE  KAB. SIMEULUE   \n",
       "2   1101010  TEUPAH SELATAN      1101  KAB. SIMEULUE  KAB. SIMEULUE   \n",
       "3   1101010  TEUPAH SELATAN      1101  KAB. SIMEULUE  KAB. SIMEULUE   \n",
       "4   1101010  TEUPAH SELATAN      1101  KAB. SIMEULUE  KAB. SIMEULUE   \n",
       "\n",
       "   KODE DAGRI              kec      kode  ed_distance  \n",
       "0       11.09  SIMEULUE TENGAH  11.09.01           11  \n",
       "1       11.09           SALANG  11.09.02           11  \n",
       "2       11.09     TEUPAH BARAT  11.09.03            5  \n",
       "3       11.09   SIMEULUE TIMUR  11.09.04           13  \n",
       "4       11.09      TELUK DALAM  11.09.05            9  "
      ]
     },
     "execution_count": 133,
     "metadata": {},
     "output_type": "execute_result"
    }
   ],
   "source": [
    "kec_cek.head()"
   ]
  },
  {
   "cell_type": "code",
   "execution_count": 134,
   "metadata": {
    "collapsed": true
   },
   "outputs": [],
   "source": [
    "kec_cek=kec_cek[kec_cek['ed_distance']<2]"
   ]
  },
  {
   "cell_type": "code",
   "execution_count": 135,
   "metadata": {},
   "outputs": [
    {
     "data": {
      "text/plain": [
       "(7121, 9)"
      ]
     },
     "execution_count": 135,
     "metadata": {},
     "output_type": "execute_result"
    }
   ],
   "source": [
    "kec_cek.shape"
   ]
  },
  {
   "cell_type": "code",
   "execution_count": 136,
   "metadata": {},
   "outputs": [
    {
     "data": {
      "text/html": [
       "<div>\n",
       "<style>\n",
       "    .dataframe thead tr:only-child th {\n",
       "        text-align: right;\n",
       "    }\n",
       "\n",
       "    .dataframe thead th {\n",
       "        text-align: left;\n",
       "    }\n",
       "\n",
       "    .dataframe tbody tr th {\n",
       "        vertical-align: top;\n",
       "    }\n",
       "</style>\n",
       "<table border=\"1\" class=\"dataframe\">\n",
       "  <thead>\n",
       "    <tr style=\"text-align: right;\">\n",
       "      <th></th>\n",
       "      <th>KODE_KEC</th>\n",
       "      <th>NMKEC</th>\n",
       "      <th>KODE BPS</th>\n",
       "      <th>KAB BPS</th>\n",
       "      <th>KAB DAGRI</th>\n",
       "      <th>KODE DAGRI</th>\n",
       "      <th>kec</th>\n",
       "      <th>kode</th>\n",
       "      <th>ed_distance</th>\n",
       "    </tr>\n",
       "  </thead>\n",
       "  <tbody>\n",
       "    <tr>\n",
       "      <th>6</th>\n",
       "      <td>1101010</td>\n",
       "      <td>TEUPAH SELATAN</td>\n",
       "      <td>1101</td>\n",
       "      <td>KAB. SIMEULUE</td>\n",
       "      <td>KAB. SIMEULUE</td>\n",
       "      <td>11.09</td>\n",
       "      <td>TEUPAH SELATAN</td>\n",
       "      <td>11.09.07</td>\n",
       "      <td>0</td>\n",
       "    </tr>\n",
       "    <tr>\n",
       "      <th>13</th>\n",
       "      <td>1101020</td>\n",
       "      <td>SIMEULUE TIMUR</td>\n",
       "      <td>1101</td>\n",
       "      <td>KAB. SIMEULUE</td>\n",
       "      <td>KAB. SIMEULUE</td>\n",
       "      <td>11.09</td>\n",
       "      <td>SIMEULUE TIMUR</td>\n",
       "      <td>11.09.04</td>\n",
       "      <td>0</td>\n",
       "    </tr>\n",
       "    <tr>\n",
       "      <th>22</th>\n",
       "      <td>1101021</td>\n",
       "      <td>TEUPAH BARAT</td>\n",
       "      <td>1101</td>\n",
       "      <td>KAB. SIMEULUE</td>\n",
       "      <td>KAB. SIMEULUE</td>\n",
       "      <td>11.09</td>\n",
       "      <td>TEUPAH BARAT</td>\n",
       "      <td>11.09.03</td>\n",
       "      <td>0</td>\n",
       "    </tr>\n",
       "    <tr>\n",
       "      <th>38</th>\n",
       "      <td>1101022</td>\n",
       "      <td>TEUPAH TENGAH</td>\n",
       "      <td>1101</td>\n",
       "      <td>KAB. SIMEULUE</td>\n",
       "      <td>KAB. SIMEULUE</td>\n",
       "      <td>11.09</td>\n",
       "      <td>TEUPAH TENGAH</td>\n",
       "      <td>11.09.09</td>\n",
       "      <td>0</td>\n",
       "    </tr>\n",
       "    <tr>\n",
       "      <th>40</th>\n",
       "      <td>1101030</td>\n",
       "      <td>SIMEULUE TENGAH</td>\n",
       "      <td>1101</td>\n",
       "      <td>KAB. SIMEULUE</td>\n",
       "      <td>KAB. SIMEULUE</td>\n",
       "      <td>11.09</td>\n",
       "      <td>SIMEULUE TENGAH</td>\n",
       "      <td>11.09.01</td>\n",
       "      <td>0</td>\n",
       "    </tr>\n",
       "  </tbody>\n",
       "</table>\n",
       "</div>"
      ],
      "text/plain": [
       "    KODE_KEC            NMKEC  KODE BPS        KAB BPS      KAB DAGRI  \\\n",
       "6    1101010   TEUPAH SELATAN      1101  KAB. SIMEULUE  KAB. SIMEULUE   \n",
       "13   1101020   SIMEULUE TIMUR      1101  KAB. SIMEULUE  KAB. SIMEULUE   \n",
       "22   1101021     TEUPAH BARAT      1101  KAB. SIMEULUE  KAB. SIMEULUE   \n",
       "38   1101022    TEUPAH TENGAH      1101  KAB. SIMEULUE  KAB. SIMEULUE   \n",
       "40   1101030  SIMEULUE TENGAH      1101  KAB. SIMEULUE  KAB. SIMEULUE   \n",
       "\n",
       "    KODE DAGRI              kec      kode  ed_distance  \n",
       "6        11.09   TEUPAH SELATAN  11.09.07            0  \n",
       "13       11.09   SIMEULUE TIMUR  11.09.04            0  \n",
       "22       11.09     TEUPAH BARAT  11.09.03            0  \n",
       "38       11.09    TEUPAH TENGAH  11.09.09            0  \n",
       "40       11.09  SIMEULUE TENGAH  11.09.01            0  "
      ]
     },
     "execution_count": 136,
     "metadata": {},
     "output_type": "execute_result"
    }
   ],
   "source": [
    "kec_cek.head()"
   ]
  },
  {
   "cell_type": "code",
   "execution_count": 137,
   "metadata": {},
   "outputs": [
    {
     "data": {
      "text/plain": [
       "7121"
      ]
     },
     "execution_count": 137,
     "metadata": {},
     "output_type": "execute_result"
    }
   ],
   "source": [
    "kec_cek.drop_duplicates().shape[0]"
   ]
  },
  {
   "cell_type": "code",
   "execution_count": 138,
   "metadata": {},
   "outputs": [
    {
     "data": {
      "text/plain": [
       "(7217, 3)"
      ]
     },
     "execution_count": 138,
     "metadata": {},
     "output_type": "execute_result"
    }
   ],
   "source": [
    "kec_bps.drop_duplicates().shape"
   ]
  },
  {
   "cell_type": "code",
   "execution_count": 139,
   "metadata": {},
   "outputs": [],
   "source": [
    "kec_cek=kec_cek[kec_cek.KODE_KEC.astype(str).str.slice(0,4)==kec_cek[\"KODE BPS\"].astype(str)]"
   ]
  },
  {
   "cell_type": "code",
   "execution_count": 102,
   "metadata": {
    "collapsed": true
   },
   "outputs": [],
   "source": [
    "kec_cek.to_csv('bridging_kec.csv', sep=';', float_format='%.2f')"
   ]
  },
  {
   "cell_type": "code",
   "execution_count": 113,
   "metadata": {},
   "outputs": [
    {
     "data": {
      "text/plain": [
       "(7217, 6)"
      ]
     },
     "execution_count": 113,
     "metadata": {},
     "output_type": "execute_result"
    }
   ],
   "source": [
    "kec_bps_temp.shape"
   ]
  },
  {
   "cell_type": "code",
   "execution_count": 115,
   "metadata": {},
   "outputs": [
    {
     "data": {
      "text/plain": [
       "(143, 6)"
      ]
     },
     "execution_count": 115,
     "metadata": {},
     "output_type": "execute_result"
    }
   ],
   "source": [
    "kec_bps_temp[~kec_bps_temp['KODE_KEC'].isin(kec_cek['KODE_KEC'])].shape"
   ]
  }
 ],
 "metadata": {
  "kernelspec": {
   "display_name": "Python 3",
   "language": "python",
   "name": "python3"
  },
  "language_info": {
   "codemirror_mode": {
    "name": "ipython",
    "version": 3
   },
   "file_extension": ".py",
   "mimetype": "text/x-python",
   "name": "python",
   "nbconvert_exporter": "python",
   "pygments_lexer": "ipython3",
   "version": "3.6.2"
  }
 },
 "nbformat": 4,
 "nbformat_minor": 2
}
